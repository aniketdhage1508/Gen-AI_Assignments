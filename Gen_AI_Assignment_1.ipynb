{
  "nbformat": 4,
  "nbformat_minor": 0,
  "metadata": {
    "colab": {
      "provenance": []
    },
    "kernelspec": {
      "name": "python3",
      "display_name": "Python 3"
    },
    "language_info": {
      "name": "python"
    }
  },
  "cells": [
    {
      "cell_type": "code",
      "execution_count": null,
      "metadata": {
        "id": "etZFzBNkOQnU"
      },
      "outputs": [],
      "source": [
        "import random\n",
        "from collections import defaultdict"
      ]
    },
    {
      "cell_type": "code",
      "source": [
        "class MarkovChain:\n",
        "    def __init__(self):\n",
        "        self.chain = defaultdict(list)\n",
        "\n",
        "    def train(self, text, n=1):\n",
        "        \"\"\"Train the Markov Chain using n-word sequences as keys.\"\"\"\n",
        "        words = text.split()\n",
        "        for i in range(len(words) - n):\n",
        "            key = tuple(words[i:i+n])  # n-word sequence as key\n",
        "            next_word = words[i+n]  # next word to predict\n",
        "            self.chain[key].append(next_word)\n",
        "\n",
        "    def generate_text(self, length=50, n=1):\n",
        "        \"\"\"Generate text based on the learned Markov Chain.\"\"\"\n",
        "        # Start with a random key\n",
        "        start_key = random.choice(list(self.chain.keys()))\n",
        "        generated_words = list(start_key)\n",
        "\n",
        "        for _ in range(length - n):\n",
        "            current_key = tuple(generated_words[-n:])\n",
        "            next_words = self.chain.get(current_key)\n",
        "            if not next_words:\n",
        "                break  # No further word, stop generation\n",
        "            next_word = random.choice(next_words)\n",
        "            generated_words.append(next_word)\n",
        "\n",
        "        return ' '.join(generated_words)"
      ],
      "metadata": {
        "id": "FKozNohHOSOg"
      },
      "execution_count": null,
      "outputs": []
    },
    {
      "cell_type": "code",
      "source": [
        "# Example usage:\n",
        "text = \"\"\"\n",
        "Modern humans arrived on the Indian subcontinent from Africa no later than 55,000 years ago.\n",
        "Their long occupation, predominantly in isolation as hunter-gatherers, has made the region highly diverse, second only to Africa in human genetic diversity.\n",
        "Settled life emerged on the subcontinent in the western margins of the Indus river basin 9,000 years ago, evolving gradually into the Indus Valley Civilisation of the third millennium BCE.\n",
        "By 1200 BCE, an archaic form of Sanskrit, an Indo-European language, had diffused into India from the northwest.\n",
        "Its hymns recorded the dawning of Hinduism in India.\n",
        "India's pre-existing Dravidian languages were supplanted in the northern regions.\n",
        "By 400 BCE, caste had emerged within Hinduism, and Buddhism and Jainism had arisen, proclaiming social orders unlinked to heredity.\n",
        "Early political consolidations gave rise to the loose-knit Maurya and Gupta Empires.\n",
        "Widespread creativity suffused this era, but the status of women declined, and untouchability became an organized belief.\n",
        "In South India, the Middle kingdoms exported Dravidian language scripts and religious cultures to the kingdoms of Southeast Asia.\n",
        "In the early mediaeval era, Christianity, Islam, Judaism, and Zoroastrianism became established on India's southern and western coasts.\n",
        "Muslim armies from Central Asia intermittently overran India's northern plains.\n",
        "The resulting Delhi Sultanate drew northern India into the cosmopolitan networks of mediaeval Islam.\n",
        "In south India, the Vijayanagara Empire created a long-lasting composite Hindu culture.\n",
        "In the Punjab, Sikhism emerged, rejecting institutionalised religion.\n",
        "The Mughal Empire, in 1526, ushered in two centuries of relative peace, leaving a legacy of luminous architecture.\n",
        "Gradually expanding rule of the British East India Company followed. It turned India into a colonial economy but consolidated its sovereignty.\n",
        "British Crown rule began in 1858. The rights promised to Indians were granted slowly, but technological changes were introduced, and modern ideas of education and public life took root.\n",
        "A pioneering and influential nationalist movement emerged. Noted for nonviolent resistance it became the major factor in ending British rule.\n",
        "In 1947, the British Indian Empire was partitioned into two independent dominions, a Hindu-majority dominion of India and a Muslim-majority dominion of Pakistan.\n",
        "A large-scale loss of life and an unprecedented migration accompanied the partition.\n",
        "\"\"\""
      ],
      "metadata": {
        "id": "DegDziHoOTbh"
      },
      "execution_count": null,
      "outputs": []
    },
    {
      "cell_type": "code",
      "source": [
        "# Create the Markov Chain\n",
        "markov = MarkovChain()"
      ],
      "metadata": {
        "id": "74ZuXg2GOUc5"
      },
      "execution_count": null,
      "outputs": []
    },
    {
      "cell_type": "code",
      "source": [
        "# Train the model with the input text\n",
        "markov.train(text, n=1)"
      ],
      "metadata": {
        "id": "0uC5GOQPOVh8"
      },
      "execution_count": null,
      "outputs": []
    },
    {
      "cell_type": "code",
      "source": [
        "# Generate text\n",
        "generated_text = markov.generate_text(length=50, n=1)\n",
        "print(generated_text)"
      ],
      "metadata": {
        "colab": {
          "base_uri": "https://localhost:8080/"
        },
        "id": "kV3zqv17OWY6",
        "outputId": "4f50abce-5542-4ff2-d308-9d0705b93e79"
      },
      "execution_count": null,
      "outputs": [
        {
          "output_type": "stream",
          "name": "stdout",
          "text": [
            "ushered in isolation as hunter-gatherers, has made the Punjab, Sikhism emerged, rejecting institutionalised religion. The rights promised to the major factor in 1858. The rights promised to Indians were granted slowly, but technological changes were supplanted in two centuries of Southeast Asia. In south India, the Indus river basin 9,000\n"
          ]
        }
      ]
    }
  ]
}